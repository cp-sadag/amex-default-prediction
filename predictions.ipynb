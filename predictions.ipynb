{
 "cells": [
  {
   "cell_type": "code",
   "execution_count": 1,
   "id": "cb24d997-f4c1-4191-a473-4f89c640be26",
   "metadata": {},
   "outputs": [],
   "source": [
    "import os\n",
    "import cudf as pd\n",
    "from pycaret.regression import *"
   ]
  },
  {
   "cell_type": "code",
   "execution_count": 2,
   "id": "0af4059b-dd50-4a36-a036-da87a62ecafc",
   "metadata": {},
   "outputs": [],
   "source": [
    "root=\"/amex/\"\n",
    "headers=pd.read_csv(root+\"headers.csv\")\n",
    "headers = headers.columns"
   ]
  },
  {
   "cell_type": "code",
   "execution_count": null,
   "id": "689bfe43-8946-4309-bb6d-ba4c95c330dd",
   "metadata": {},
   "outputs": [],
   "source": [
    "mdls = []\n",
    "for r, d, f in os.walk(root+\"models/amex\"):\n",
    "    for file in f:\n",
    "        if \"x\" in file :\n",
    "            mdls.append(os.path.join(r, file))\n",
    "models=[]\n",
    "for model in mdls:\n",
    "    models.append(load_model(model.replace(\".pkl\", \"\")))"
   ]
  },
  {
   "cell_type": "code",
   "execution_count": null,
   "id": "fe1bc28a-e740-4fc8-a73e-df722048f54f",
   "metadata": {},
   "outputs": [],
   "source": [
    "tests = []\n",
    "for r, d, f in os.walk(root+\"test\"):\n",
    "    if r =='/amex/test':\n",
    "        for file in f:\n",
    "            if 'cust' not in file and 'preds' not in file and ('testa' in file or 'testb' in file or 'testc' in file or 'testd' in file or 'teste' in file or 'testf' in file):\n",
    "                tests.append(os.path.join(r, file))\n",
    "tests"
   ]
  },
  {
   "cell_type": "code",
   "execution_count": null,
   "id": "f6d2e18a-53ba-4f83-834e-8fbfe253f4fb",
   "metadata": {},
   "outputs": [
    {
     "name": "stdout",
     "output_type": "stream",
     "text": [
      "/amex/test/testbu .......................................................................\n",
      "/amex/test/testbv .......................................................................\n",
      "/amex/test/testbw .......................................................................\n",
      "/amex/test/testbx .......................................................................\n",
      "/amex/test/testby .......................................................................\n",
      "/amex/test/testbz .......................................................................\n",
      "/amex/test/testca .......................................................................\n",
      "/amex/test/testcb .......................................................................\n",
      "/amex/test/testcc ....................................."
     ]
    }
   ],
   "source": [
    "predictions=pd.DataFrame()\n",
    "for i in range(46, len(tests)):\n",
    "    print(tests[i], end =\" \")\n",
    "    test = pd.read_csv(tests[i], names=headers, header=None)\n",
    "    for j in range(len(mdls)):\n",
    "#        if j == 0 or j == len(models)-1:\n",
    "        print(\".\", end =\"\")\n",
    "        try:\n",
    "            preds = predict_model(models[j], data=test).groupby(['customer_ID'], as_index=False)['Label'].mean()\n",
    "            predictions = pd.concat([predictions, preds], ignore_index=True, axis=0)\n",
    "        except e:\n",
    "            print(\"Errored for \" + tests[i] + \" \" + str(j))\n",
    "            print(e)\n",
    "    preds.groupby(['customer_ID'], as_index=False)['Label'].mean().to_csv(tests[i]+\".preds\", header=False, index=False)\n",
    "    print(\"\")\n",
    "predictions = predictions.groupby(['customer_ID'], as_index=False)['Label'].mean() #.round()\n",
    "#predictions['Label'] = predictions.Label.astype(\"int\")\n",
    "predictions.to_csv(\"test.preds\", header=False, index=False)\n"
   ]
  },
  {
   "cell_type": "code",
   "execution_count": 15,
   "id": "c535f0d0-50fc-45d8-94cf-712ca70212fe",
   "metadata": {},
   "outputs": [],
   "source": [
    "ps = predictions.groupby(['customer_ID'], as_index=False)['Label'].mean().round()\n",
    "ps['Label'] = ps.Label.astype(\"int\")\n",
    "ps.to_csv(\"tp\", header=False, index=False)\n"
   ]
  },
  {
   "cell_type": "code",
   "execution_count": 90,
   "id": "c59c9a06-a969-4273-a9a7-6012b7ee0215",
   "metadata": {},
   "outputs": [],
   "source": [
    "#predictions[predictions['customer_ID']=='007317e5c6dcf137fd9310b2a4b385822f01bd30b345c531d95ab35187e360fc']\n",
    "\n",
    "#predictions.groupby(['customer_ID'])['Label'].mean().round()\n",
    "#predict_model(models[j], data=test).groupby(['customer_ID'])['Label'].mean().round()"
   ]
  },
  {
   "cell_type": "code",
   "execution_count": 91,
   "id": "9c964f91-a64f-469a-a4b0-1145931b5dd1",
   "metadata": {},
   "outputs": [],
   "source": [
    "#pd.concat([predictions, preds], ignore_index=True, axis=0)\n"
   ]
  },
  {
   "cell_type": "code",
   "execution_count": 93,
   "id": "40028a03-c4a8-4c87-93b9-44437203e4de",
   "metadata": {},
   "outputs": [],
   "source": [
    "#preds"
   ]
  },
  {
   "cell_type": "code",
   "execution_count": 92,
   "id": "f6d826c5-6167-4d66-9420-4e6afb047364",
   "metadata": {},
   "outputs": [],
   "source": [
    "#predictions.groupby(['customer_ID'], as_index=False)['Label'].max()"
   ]
  },
  {
   "cell_type": "code",
   "execution_count": null,
   "id": "b19e3b12-5525-4d49-9cdd-a619e3726593",
   "metadata": {},
   "outputs": [],
   "source": []
  }
 ],
 "metadata": {
  "kernelspec": {
   "display_name": "Python 3",
   "language": "python",
   "name": "python3"
  },
  "language_info": {
   "codemirror_mode": {
    "name": "ipython",
    "version": 3
   },
   "file_extension": ".py",
   "mimetype": "text/x-python",
   "name": "python",
   "nbconvert_exporter": "python",
   "pygments_lexer": "ipython3",
   "version": "3.7.10"
  },
  "toc-showtags": true
 },
 "nbformat": 4,
 "nbformat_minor": 5
}
