{
 "cells": [
  {
   "cell_type": "code",
   "execution_count": 1,
   "id": "47e4f2dc-23d2-4d52-92b7-0e560547af2f",
   "metadata": {},
   "outputs": [],
   "source": [
    "import os\n",
    "import cudf as pd"
   ]
  },
  {
   "cell_type": "code",
   "execution_count": 2,
   "id": "de2957db-89f7-4007-8ec5-86dcc8e1911a",
   "metadata": {},
   "outputs": [],
   "source": [
    "root=\"/amex/\"\n",
    "headers=pd.read_csv(root+\"headers.csv\")\n",
    "headers = headers.columns"
   ]
  },
  {
   "cell_type": "code",
   "execution_count": 233,
   "id": "f72042d9-ddf6-40bf-a98b-7133ed66cfb8",
   "metadata": {},
   "outputs": [
    {
     "data": {
      "text/plain": [
       "'/amex/test/testcb.preds'"
      ]
     },
     "execution_count": 233,
     "metadata": {},
     "output_type": "execute_result"
    }
   ],
   "source": [
    "preds = []\n",
    "for r, d, f in os.walk(root+\"test\"):\n",
    "    if r == \"/amex/test\":\n",
    "        for file in f:\n",
    "            if \".preds\" in file :\n",
    "                preds.append(os.path.join(r, file))\n",
    "preds[len(preds)-1]"
   ]
  },
  {
   "cell_type": "code",
   "execution_count": 234,
   "id": "ec3c528e-ec79-4aed-abf3-988e02a7b279",
   "metadata": {},
   "outputs": [],
   "source": [
    "preddf= pd.DataFrame()\n",
    "for i in range(len(preds)):\n",
    "    preddf = pd.concat([preddf, pd.read_csv(preds[i], names=['customer_ID', 'Label'], header=None)], ignore_index=True, axis=0)"
   ]
  },
  {
   "cell_type": "code",
   "execution_count": 235,
   "id": "428ccdf2-a79a-45ca-b183-e13299de92a0",
   "metadata": {},
   "outputs": [],
   "source": [
    "preddf = preddf.groupby(['customer_ID'], as_index=False)['Label'].mean().round().reset_index()\n",
    "#pd.DataFrame(preddf)\n",
    "preddf['Label'] = preddf.Label.astype(\"int\")\n",
    "#preddf.head(1)"
   ]
  },
  {
   "cell_type": "code",
   "execution_count": 236,
   "id": "ecda1599-0686-4c77-bc3a-c8fab99639a4",
   "metadata": {},
   "outputs": [],
   "source": [
    "valids = pd.merge(samples, preddf, on='customer_ID', how='inner')"
   ]
  },
  {
   "cell_type": "code",
   "execution_count": 237,
   "id": "99eaa2f6-a814-4c40-828f-739cc620c473",
   "metadata": {},
   "outputs": [
    {
     "name": "stdout",
     "output_type": "stream",
     "text": [
      "matching 242883 total 329535 % 0.7370476580636351\n"
     ]
    }
   ],
   "source": [
    "print(\"matching\", valids[valids['prediction'] == valids['Label']].count()[0], \"total\", valids.count()[0], \"%\", valids[valids['prediction'] == valids['Label']].count()[0]/valids.count()[0])"
   ]
  },
  {
   "cell_type": "code",
   "execution_count": 238,
   "id": "0f9bf53d-967b-4fee-8b1b-b80efcce4023",
   "metadata": {},
   "outputs": [
    {
     "data": {
      "text/plain": [
       "0.7406333518229036"
      ]
     },
     "execution_count": 238,
     "metadata": {},
     "output_type": "execute_result"
    }
   ],
   "source": [
    "58750/79324"
   ]
  },
  {
   "cell_type": "code",
   "execution_count": 201,
   "id": "23a73f3b-013d-4fdc-8e9f-a1bfe73a33ba",
   "metadata": {},
   "outputs": [
    {
     "data": {
      "text/html": [
       "<div>\n",
       "<style scoped>\n",
       "    .dataframe tbody tr th:only-of-type {\n",
       "        vertical-align: middle;\n",
       "    }\n",
       "\n",
       "    .dataframe tbody tr th {\n",
       "        vertical-align: top;\n",
       "    }\n",
       "\n",
       "    .dataframe thead th {\n",
       "        text-align: right;\n",
       "    }\n",
       "</style>\n",
       "<table border=\"1\" class=\"dataframe\">\n",
       "  <thead>\n",
       "    <tr style=\"text-align: right;\">\n",
       "      <th></th>\n",
       "      <th>customer_ID</th>\n",
       "      <th>prediction</th>\n",
       "      <th>Label</th>\n",
       "    </tr>\n",
       "  </thead>\n",
       "  <tbody>\n",
       "    <tr>\n",
       "      <th>0</th>\n",
       "      <td>01826808206e91e32dce658158d74ab275f13f0d7025f5...</td>\n",
       "      <td>0</td>\n",
       "      <td>0</td>\n",
       "    </tr>\n",
       "    <tr>\n",
       "      <th>1</th>\n",
       "      <td>0182815d442a54b814da25891c7681d112a7ff9e0ace02...</td>\n",
       "      <td>0</td>\n",
       "      <td>1</td>\n",
       "    </tr>\n",
       "    <tr>\n",
       "      <th>2</th>\n",
       "      <td>0182908946efabcd8b33f51498f131b9607380ddaa8837...</td>\n",
       "      <td>0</td>\n",
       "      <td>1</td>\n",
       "    </tr>\n",
       "    <tr>\n",
       "      <th>3</th>\n",
       "      <td>018297aae80afbb632da692de6b9fc91127295557f1d7a...</td>\n",
       "      <td>0</td>\n",
       "      <td>1</td>\n",
       "    </tr>\n",
       "    <tr>\n",
       "      <th>4</th>\n",
       "      <td>0182b3d578002e49854220564cd07dfa0a439ed357f0bb...</td>\n",
       "      <td>0</td>\n",
       "      <td>1</td>\n",
       "    </tr>\n",
       "  </tbody>\n",
       "</table>\n",
       "</div>"
      ],
      "text/plain": [
       "                                         customer_ID  prediction  Label\n",
       "0  01826808206e91e32dce658158d74ab275f13f0d7025f5...           0      0\n",
       "1  0182815d442a54b814da25891c7681d112a7ff9e0ace02...           0      1\n",
       "2  0182908946efabcd8b33f51498f131b9607380ddaa8837...           0      1\n",
       "3  018297aae80afbb632da692de6b9fc91127295557f1d7a...           0      1\n",
       "4  0182b3d578002e49854220564cd07dfa0a439ed357f0bb...           0      1"
      ]
     },
     "execution_count": 201,
     "metadata": {},
     "output_type": "execute_result"
    }
   ],
   "source": [
    "valids.head()"
   ]
  },
  {
   "cell_type": "code",
   "execution_count": 229,
   "id": "bef47ea2-078c-402b-a5e4-1bd276bd0179",
   "metadata": {},
   "outputs": [],
   "source": [
    "#samples = pd.read_csv(root + \"sample_submission.csv\")\n",
    "#samples"
   ]
  },
  {
   "cell_type": "code",
   "execution_count": null,
   "id": "d0c726d7-828e-4306-b4be-ceae2bfeda0d",
   "metadata": {},
   "outputs": [],
   "source": []
  }
 ],
 "metadata": {
  "kernelspec": {
   "display_name": "Python 3",
   "language": "python",
   "name": "python3"
  },
  "language_info": {
   "codemirror_mode": {
    "name": "ipython",
    "version": 3
   },
   "file_extension": ".py",
   "mimetype": "text/x-python",
   "name": "python",
   "nbconvert_exporter": "python",
   "pygments_lexer": "ipython3",
   "version": "3.7.10"
  }
 },
 "nbformat": 4,
 "nbformat_minor": 5
}
