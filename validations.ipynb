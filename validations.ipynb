{
 "cells": [
  {
   "cell_type": "code",
   "execution_count": 1,
   "id": "47e4f2dc-23d2-4d52-92b7-0e560547af2f",
   "metadata": {},
   "outputs": [],
   "source": [
    "import os\n",
    "import numpy as np\n",
    "import pandas as pd\n",
    "from pycaret.regression import *"
   ]
  },
  {
   "cell_type": "code",
   "execution_count": 2,
   "id": "de2957db-89f7-4007-8ec5-86dcc8e1911a",
   "metadata": {},
   "outputs": [],
   "source": [
    "root=\"/home/sadagopan/amex-default-prediction/\"\n",
    "headers=pd.read_csv(root+\"headers.csv\")\n",
    "headers = headers.columns\n",
    "labels =pd.read_csv(root+\"train_labels.csv\")"
   ]
  },
  {
   "cell_type": "code",
   "execution_count": 3,
   "id": "bef47ea2-078c-402b-a5e4-1bd276bd0179",
   "metadata": {},
   "outputs": [],
   "source": [
    "samples = pd.read_csv(root + \"sample_submission.csv\")\n",
    "#samples[samples['prediction'] == 0].count()[0]"
   ]
  },
  {
   "cell_type": "code",
   "execution_count": 4,
   "id": "7610da82-e828-48bf-8671-ffd6f8fa9422",
   "metadata": {},
   "outputs": [
    {
     "name": "stdout",
     "output_type": "stream",
     "text": [
      "Transformation Pipeline and Model Successfully Loaded\n",
      "model loaded, predicting for x...\n",
      "('x:', -2.55351295663786e-14, 1.0000000000000049)\n"
     ]
    },
    {
     "data": {
      "text/plain": [
       "[]"
      ]
     },
     "execution_count": 4,
     "metadata": {},
     "output_type": "execute_result"
    }
   ],
   "source": [
    "predsrange = []\n",
    "#predictions=pd.DataFrame()\n",
    "for i in range(1):\n",
    "    try:\n",
    "        model = load_model(root+\"/models/\" + \"x\" + str(i) + \"stackedreg\")\n",
    "    except:\n",
    "        try:\n",
    "            model = load_model(root+\"/models/\" + \"lightgbm-x\" + str(i) + \"reg\")\n",
    "        except:\n",
    "            try:\n",
    "                model = load_model(root+\"/models/\" + \"knn-x\" + str(i) + \"reg\")\n",
    "            except:\n",
    "                try:\n",
    "                    model = load_model(root+\"/models/\" + \"rf-x\" + str(i) + \"reg\")\n",
    "                except:\n",
    "                    model = load_model(root+\"/models/\" + \"et-x\" + str(i) + \"reg\")\n",
    "\n",
    "    print(\"model loaded, predicting for x...\")\n",
    "    testdf = (pd.read_csv(\"xall.csv\"))\n",
    "    preds = predict_model(model, data=testdf, verbose=True)\n",
    "    preds.to_csv(root+\"/test/x\"+ str(i) + \".dtcnt2\" + \".preds\", index=False)\n",
    "    print((\"x:\", preds['Label'].min(), preds['Label'].max()))\n",
    "    break\n",
    "    if len(predsrange) <= i:\n",
    "        predsrange.append((preds['Label'].min(), preds['Label'].max()))\n",
    "    else:\n",
    "        predsrange[i] = (preds['Label'].min(), preds['Label'].max())\n",
    "    print(\"t\" + str(i) + \"dtcnt.csv\")\n",
    "    testdf = (pd.read_csv(\"t\" + str(i) + \"dtcnt.csv\"))\n",
    "    preds = predict_model(model, data=testdf, verbose=True)\n",
    "    print((\"t:\", preds['Label'].min(), preds['Label'].max()))\n",
    "#    predictions = pd.concat([predictions, preds], ignore_index=True, axis=0)\n",
    "    preds[['customer_ID', 'Label']].to_csv(root+\"/test/t\"+ str(i) + \".dtcnt2\" + \".preds\", header=False, index=False)\n",
    "\n",
    "#model = load_model(root+\"/models/\" + \"x11stackedreg\")\n",
    "\n",
    "#print((predsrange[i-2].min(), predsrange[i-2].max()))\n",
    "#if len(predsrange) <= i:\n",
    "#    predsrange.append((predsrange[i-2][0], predsrange[i-2][1]))\n",
    "#else:\n",
    "#    predsrange[i] = (predsrange[i-1][0], predsrange[i-1][1])\n",
    "\n",
    "#for i in range(41):\n",
    "#    print(\"t12-\" + str(i) + \"dtcnt.csv\")\n",
    "#    testdf = (pd.read_csv(\"t12-\" + str(i) + \"dtcnt.csv\"))\n",
    "#    preds = predict_model(model, data=testdf, verbose=True)\n",
    "#    preds[['customer_ID', 'Label']].to_csv(root+\"/test/t12-\"+ str(i) + \".dtcnt2\" + \".preds\", header=False, index=False)\n",
    "\n",
    "predsrange"
   ]
  },
  {
   "cell_type": "code",
   "execution_count": 5,
   "id": "a6a06e99-362f-42c7-a2cc-8b348010c7c2",
   "metadata": {},
   "outputs": [
    {
     "data": {
      "text/plain": [
       "('1=0', 871, '1=1', 26164, '0=0', 35446, '0=1', 802, 'total', 63283)"
      ]
     },
     "execution_count": 5,
     "metadata": {},
     "output_type": "execute_result"
    }
   ],
   "source": [
    "\"1=0\", preds[preds['target']==1][round(preds['Label']) == 0]['Label'].count(), \"1=1\", preds[preds['target']==1][round(preds['Label']) == 1]['Label'].count(), \"0=0\", preds[preds['target']==0][round(preds['Label']) == 0]['Label'].count(), \"0=1\", preds[preds['target']==0][round(preds['Label']) == 1]['Label'].count(),  \"total\", preds['Label'].count() "
   ]
  },
  {
   "cell_type": "code",
   "execution_count": null,
   "id": "ef507ce5-2c18-4ba1-9661-cd1b9a7f9b30",
   "metadata": {},
   "outputs": [
    {
     "name": "stdout",
     "output_type": "stream",
     "text": [
      "13 [(-0.043259817614827556, 3.156651145188592), (-0.09766120626214893, 1.0425727165242535), (0.037550327929235294, 0.5209467047918106), (-0.12003841159122608, 2.414134160694392), (-0.1074236883168338, 12.45373702699337), (-0.10433507347204962, 9.345122891610988), (-0.11432391499602979, 2.9051420718305323), (-0.05951777175425432, 1.2272600096409039), (-0.0481976348460309, 1.2053768725904432), (-0.059356542062170226, 1.2100175224174872), (-0.060757598058207796, 1.4092763591569941), (-0.043259817614827556, 3.156651145188592), (-0.043259817614827556, 3.156651145188592)]\n",
      "(-0.060757598058207796, 1.4092763591569941)\n",
      "t12-0dtcnt.csv\n",
      "t12-1dtcnt.csv\n"
     ]
    }
   ],
   "source": [
    "i=12\n",
    "print(len(predsrange), predsrange[i], predsrange[i-2])\n",
    "print((predsrange[i-1][0], predsrange[i-1][1]))\n",
    "if len(predsrange) <= i:\n",
    "    predsrange.append((predsrange[i-2][0], predsrange[i-2][1]))\n",
    "else:\n",
    "    predsrange[i] = (predsrange[i-2][0], predsrange[i-2][1])\n",
    "\n",
    "model = load_model(root+\"/models/\" + \"x10stackedreg\")\n",
    "for i in range(41):\n",
    "    print(\"t12-\" + str(i) + \"dtcnt.csv\")\n",
    "    testdf = (pd.read_csv(\"t12-\" + str(i) + \"dtcnt.csv\"))\n",
    "    preds = predict_model(model, data=testdf, verbose=True)\n",
    "    preds[['customer_ID', 'Label']].to_csv(root+\"/test/t12-\"+ str(i) + \".dtcnt\" + \".preds\", header=False, index=False)\n",
    "\n",
    "predsrange"
   ]
  },
  {
   "cell_type": "code",
   "execution_count": 62,
   "id": "f72042d9-ddf6-40bf-a98b-7133ed66cfb8",
   "metadata": {},
   "outputs": [
    {
     "data": {
      "text/plain": [
       "('/home/sadagopan/amex-default-prediction/test/t9.dtcnt.preds', 11)"
      ]
     },
     "execution_count": 62,
     "metadata": {},
     "output_type": "execute_result"
    }
   ],
   "source": [
    "preds = []\n",
    "for r, d, f in os.walk(root+\"test\"):\n",
    "        f.sort()\n",
    "#    if r == \"/amex/test\":\n",
    "        for file in f:\n",
    "            if \".dtcnt.preds\" in file :\n",
    "                preds.append(os.path.join(r, file))\n",
    "preds[len(preds)-1], len(preds)"
   ]
  },
  {
   "cell_type": "code",
   "execution_count": 86,
   "id": "ec3c528e-ec79-4aed-abf3-988e02a7b279",
   "metadata": {},
   "outputs": [
    {
     "name": "stdout",
     "output_type": "stream",
     "text": [
      "0.0 1.0 actual: 0.0 1.000000000000001\n",
      "0.0 0.9999999999999996 actual: 0.0 0.9999999999999998\n",
      "-0.0364162279604016 1.9748690744949624 actual: -0.0364162279604016 1.9748690744949624\n",
      "-0.0553088028360992 1.686524035946677 actual: -0.147379900743154 6.774337232025298\n",
      "-0.0492548898598532 1.532694116069055 actual: -0.0944329921097704 6.861635697342576\n",
      "-0.0604273876282688 1.6203242850236177 actual: -0.0604273876282688 1.975502635743819\n",
      "-0.0810432018737377 1.3105776408128604 actual: -0.1143239149960297 2.9051420718305323\n",
      "-0.0857625144380227 1.2257810510251064 actual: -0.0857625144380227 1.227260009640904\n",
      "-0.0913634419494147 1.2828079165978004 actual: -0.0913634419494147 1.2828079165978004\n",
      "-0.0943423739630968 1.319214096823091 actual: -0.0943423739630968 1.319214096823091\n",
      "-0.0986554625854292 1.1195976371912997 actual: -0.0986554625854292 1.409276359156994\n",
      "-0.1180207166361544 1.310472401732544 actual: -0.1180207166361544 2.569260401037593\n"
     ]
    }
   ],
   "source": [
    "preddf= pd.DataFrame()\n",
    "rangemin, rangemax = 0, 1\n",
    "for i in range(12):\n",
    "    preds = pd.read_csv(root+\"/test/x\"+ str(i) + \".dtcnt\" + \".preds\")\n",
    "    rangemin = preds['Label'].min()\n",
    "    rangemax = preds['Label'].max()\n",
    "    rangemin = min(preds['Label'].min(), rangemin)\n",
    "    rangemax = max(preds['Label'].max(), rangemax)\n",
    "    preds = pd.read_csv(root+\"/test/t\"+ str(i) + \".dtcnt2\" + \".preds\", names=['customer_ID', 'Label'])\n",
    "    rangemin = min(preds['Label'].min(), rangemin)\n",
    "    rangemax = max(preds['Label'].max(), rangemax)\n",
    "    print(preds['Label'].min(), preds['Label'].max(), \"actual:\", rangemin, rangemax)\n",
    "    preds['Label'] = ( (preds[['Label']] - rangemin) / (rangemax - rangemin) ) * (1 - 0) + 0\n",
    "    preddf = pd.concat([preddf, preds], ignore_index=True, axis=0)\n",
    "\n",
    "for i in range(41):\n",
    "    preds = pd.read_csv(root+\"/test/x10.dtcnt.preds\")\n",
    "    rangemin = preds['Label'].min()\n",
    "    rangemax = preds['Label'].max()\n",
    "    preds = pd.read_csv(root+\"/test/t12-\"+ str(i) + \".dtcnt\" + \".preds\", names=['customer_ID', 'Label'])\n",
    "    rangemin = min(preds['Label'].min(), rangemin)\n",
    "    rangemax = max(preds['Label'].max(), rangemax)\n",
    "    print(preds['Label'].min(), preds['Label'].max(), \"actual:\", rangemin, rangemax)\n",
    "    preds['Label'] = ( (preds[['Label']] - rangemin) / (rangemax - rangemin) ) * (1 - 0) + 0\n",
    "    preddf = pd.concat([preddf, preds], ignore_index=True, axis=0)\n"
   ]
  },
  {
   "cell_type": "code",
   "execution_count": null,
   "id": "71b0948a-4e95-41ab-a00d-3acdb8651ab5",
   "metadata": {},
   "outputs": [],
   "source": [
    "preddf= pd.DataFrame()\n",
    "\n",
    "preds = pd.read_csv(root+\"/test/x5.dtcnt.preds\")\n",
    "rangemin, rangemax = preds['Label'].min(), preds['Label'].max()\n",
    "\n",
    "for i in range(41):\n",
    "    preds = pd.read_csv(root+\"/test/t12-\"+ str(i) + \".dtcnt\" + \".preds\", names=['customer_ID', 'Label'])\n",
    "    print(preds['Label'].min(), preds['Label'].max())\n",
    "    rangemin = min(preds['Label'].min(), rangemin)\n",
    "    rangemax = max(preds['Label'].max(), rangemax)\n",
    "#    rangemin = preds['Label'].min()\n",
    "#    rangemax = preds['Label'].max()\n",
    "#    print(preds['Label'].min(), preds['Label'].max(), \"actual:\", rangemin, rangemax)\n",
    "#    preds['Label'] = ( (preds[['Label']] - rangemin) / (rangemax - rangemin) ) * (1 - 0) + 0\n",
    "    preddf = pd.concat([preddf, preds], ignore_index=True, axis=0)\n",
    "\n",
    "print(preddf['Label'].min(), preddf['Label'].max(), \"actual:\", rangemin, rangemax)\n",
    "preddf['Label'] = ( (preddf[['Label']] - rangemin) / (rangemax - rangemin) ) * (1 - 0) + 0\n"
   ]
  },
  {
   "cell_type": "code",
   "execution_count": 87,
   "id": "a04d9137-7094-423d-857d-45bda0263eb8",
   "metadata": {},
   "outputs": [
    {
     "data": {
      "text/plain": [
       "(0.0, 1.0)"
      ]
     },
     "execution_count": 87,
     "metadata": {},
     "output_type": "execute_result"
    }
   ],
   "source": [
    "preddf['Label'].min(), preddf['Label'].max()"
   ]
  },
  {
   "cell_type": "code",
   "execution_count": 88,
   "id": "ecda1599-0686-4c77-bc3a-c8fab99639a4",
   "metadata": {},
   "outputs": [
    {
     "name": "stdout",
     "output_type": "stream",
     "text": [
      "matching 1's 0 0\n",
      "matching 0's 101753 111052\n",
      "matching 101753 total 111052 % 0.9162644526888305\n"
     ]
    }
   ],
   "source": [
    "preddf = preddf.groupby(['customer_ID'], as_index=False)['Label'].mean() #.round() #.reset_index()\n",
    "valids = pd.merge(samples, preddf, on='customer_ID', how='inner')\n",
    "valids.rename(columns={'prediction': 'target'}, inplace=True)\n",
    "valids.rename(columns={'Label': 'prediction'}, inplace=True)\n",
    "\n",
    "#valids['prediction'] = ( (valids[['prediction']] - valids[['prediction']].min()) / (valids[['prediction']].max() - valids[['prediction']].min()) ) * (1 - 0) + 0\n",
    "\n",
    "valids['prediction'].fillna(0, inplace=True)\n",
    "\n",
    "print(\"matching 1's\", valids[(valids['target'] == round(valids['prediction'])) & (valids['target'] == 1)].count()[0], valids[(valids['target'] == 1)].count()[0])\n",
    "print(\"matching 0's\", valids[(valids['target'] == round(valids['prediction'])) & (valids['target'] == 0)].count()[0], valids[(valids['target'] == 0)].count()[0])\n",
    "print(\"matching\", valids[valids['target'] == round(valids['prediction'])].count()[0], \"total\", valids.count()[0], \"%\", valids[valids['target'] == round(valids['prediction'])].count()[0]/valids.count()[0])"
   ]
  },
  {
   "cell_type": "code",
   "execution_count": null,
   "id": "68805321-47b8-4adf-8ac9-54356a8bad6c",
   "metadata": {},
   "outputs": [],
   "source": [
    "valids[valids['prediction']>= 0.8497913915].count()/793212\n",
    "#valids['prediction'].min(), valids['prediction'].max()\n",
    "#pd.DataFrame(\n",
    "valids.groupby(['prediction', 'target']).count().sort_values(by=[\"prediction\"], ascending=False).head(50)"
   ]
  },
  {
   "cell_type": "code",
   "execution_count": 31,
   "id": "99eaa2f6-a814-4c40-828f-739cc620c473",
   "metadata": {},
   "outputs": [
    {
     "name": "stdout",
     "output_type": "stream",
     "text": [
      "matching 736896 total 924621 % 0.7969708669822554\n"
     ]
    }
   ],
   "source": [
    "print(\"matching\", valids[valids['target'] == round(valids['prediction'])].count()[0], \"total\", valids.count()[0], \"%\", valids[valids['target'] == round(valids['prediction'])].count()[0]/valids.count()[0])"
   ]
  },
  {
   "cell_type": "code",
   "execution_count": 86,
   "id": "f2cbf329-eaa0-498d-8ad7-3b6b8ca53fcb",
   "metadata": {},
   "outputs": [
    {
     "data": {
      "text/plain": [
       "329"
      ]
     },
     "execution_count": 86,
     "metadata": {},
     "output_type": "execute_result"
    }
   ],
   "source": [
    "valids[(valids['prediction'] <= 1)].sort_values('prediction', ascending=False)\n",
    "valids['customer_ID']\n",
    "\n",
    "len(samples[~samples.customer_ID.isin(valids.customer_ID)]['customer_ID'])\n",
    "#preddf.groupby(['customer_ID'], as_index=False)['Label'].mean()"
   ]
  },
  {
   "cell_type": "code",
   "execution_count": 90,
   "id": "23a73f3b-013d-4fdc-8e9f-a1bfe73a33ba",
   "metadata": {},
   "outputs": [],
   "source": [
    "#!mv /amex/submission.csv submission11.csv\n",
    "\n",
    "valids[['customer_ID', 'prediction']].to_csv('submission.csv', index=False)"
   ]
  },
  {
   "cell_type": "code",
   "execution_count": 154,
   "id": "1f099f1e-2d6f-4c5c-bac7-85ef078216fc",
   "metadata": {},
   "outputs": [
    {
     "data": {
      "text/plain": [
       "0.24415561483499504"
      ]
     },
     "execution_count": 154,
     "metadata": {},
     "output_type": "execute_result"
    }
   ],
   "source": [
    "800000/924621\n",
    "38716/(38716+119855)"
   ]
  },
  {
   "cell_type": "code",
   "execution_count": 4,
   "id": "4b8ae0c0-19f1-486c-8594-2b74f4626cce",
   "metadata": {},
   "outputs": [],
   "source": [
    "#preddf= pd.DataFrame()\n",
    "#for i in range(78):\n",
    "#    preddf = pd.concat([preddf, pd.read_csv(preds[i], names=['customer_ID', 'Label'], header=None)], ignore_index=True, axis=0)"
   ]
  },
  {
   "cell_type": "code",
   "execution_count": 5,
   "id": "428ccdf2-a79a-45ca-b183-e13299de92a0",
   "metadata": {},
   "outputs": [],
   "source": [
    "#preddf['Label'] = preddf['Label'].apply(lambda x: abs(x))\n",
    "#preddf['Label'] = (preddf['Label'] / preddf['Label'].max())\n",
    "#preddf['Label'] = preddf['Label'].apply(lambda x: 1 if x>1 else x)\n",
    "#preddf['Label'] = preddf['Label'].apply(lambda x: 0 if x<0 else x)\n",
    "\n",
    "#preddf = preddf.groupby(['customer_ID'], as_index=False)['Label'].mean() #.round() #.reset_index()\n",
    "\n",
    "#pd.DataFrame(preddf)\n",
    "#preddf['Label'] = preddf.Label.astype(\"int\")\n",
    "#preddf.head(1)"
   ]
  },
  {
   "cell_type": "code",
   "execution_count": 10,
   "id": "edc79211-3332-49d9-943a-0a2cba886a59",
   "metadata": {},
   "outputs": [
    {
     "data": {
      "text/plain": [
       "min    0.0\n",
       "max    1.0\n",
       "Name: prediction, dtype: float64"
      ]
     },
     "execution_count": 10,
     "metadata": {},
     "output_type": "execute_result"
    }
   ],
   "source": [
    "valids['prediction'].agg(['min', 'max'])\n",
    "#731000/924621"
   ]
  },
  {
   "cell_type": "code",
   "execution_count": null,
   "id": "30e8b180-d93a-4f77-be89-d9749eef9619",
   "metadata": {},
   "outputs": [],
   "source": [
    "#valids.loc[(valids['prediction']>0.1) & (valids['prediction']< 0.5), 'prediction'] = valids.loc[(valids['prediction']>0.1) & (valids['prediction']< 0.5), 'prediction'] * 0.9\n",
    "\n",
    "#valids.loc[(valids['prediction']>0.1) & (valids['prediction']< 0.5), 'prediction']\n",
    "\n",
    "df = (pd.concat([valids[['customer_ID', 'prediction']].rename(columns={'prediction':'target'}), valids[['customer_ID', 'prediction']]], axis='columns')).sort_values('prediction', ascending=False)\n",
    "#df = (pd.concat([valids[['customer_ID', 'target']], valids[['customer_ID', 'prediction']]], axis='columns')).sort_values('prediction', ascending=False)\n",
    "\n",
    "#df['correcpred'] = df['prediction'].apply(lambda x: 1 if x> 1 else (0 if x < 0 else x))\n",
    "\n",
    "df['weight'] = df['target'].apply(lambda x: 20 if x==0 else 1)\n",
    "\n",
    "df['random'] = (df['weight'] / df['weight'].sum()).cumsum()\n",
    "\n",
    "total_pos = (df['target'] * df['weight']).sum()\n",
    "\n",
    "df['cum_pos_found'] = (df['target'] * df['weight']).cumsum()\n",
    "\n",
    "df['lorentz'] = df['cum_pos_found'] / total_pos\n",
    "\n",
    "df['gini'] = (df['lorentz'] - df['random']) * df['weight']\n",
    "\n",
    "#(df['correcpred'] * df['weight']).sum(), (df['prediction'] * df['weight']).sum()\n",
    "df['gini'].sum()\n",
    "\n",
    "\n",
    "#1782137.8168000695/303412.06746732915\n",
    "\n",
    "#valids[valids['prediction']>1].max()\n",
    "df#[df['target']>0.9]"
   ]
  },
  {
   "cell_type": "code",
   "execution_count": null,
   "id": "9ea77eda-9fc7-4d7b-b789-ca409f579836",
   "metadata": {},
   "outputs": [],
   "source": [
    "int(0.04 * df['weight'].sum())\n",
    "(df['target'] * df['weight']).sum()"
   ]
  },
  {
   "cell_type": "code",
   "execution_count": 76,
   "id": "008b0a4d-3aa9-4d57-a722-c0fe146afb98",
   "metadata": {},
   "outputs": [],
   "source": [
    "tst = pd.read_csv(\"/amex/test/testaa\", names=headers)"
   ]
  },
  {
   "cell_type": "code",
   "execution_count": 77,
   "id": "d107572f-5837-4693-a22f-4a51a29f4040",
   "metadata": {},
   "outputs": [],
   "source": [
    "tst={}"
   ]
  },
  {
   "cell_type": "code",
   "execution_count": null,
   "id": "8fcad4ea-9fc0-470c-837b-3a66938f9156",
   "metadata": {},
   "outputs": [],
   "source": [
    "#traindf = pd.read_csv(\"/amex/trainaa\", names=headers)\n",
    "\n",
    "traindf [['B_30', 'B_38', 'D_114', 'D_116', 'D_117', 'D_120', 'D_126', 'D_63', 'D_64', 'D_66', 'D_68']]\n",
    "\n",
    "pd.DataFrame(traindf ['D_120'].unique())\n"
   ]
  },
  {
   "cell_type": "code",
   "execution_count": 8,
   "id": "aefd4c47-0332-43a0-9886-9dd065bd167c",
   "metadata": {},
   "outputs": [
    {
     "name": "stdout",
     "output_type": "stream",
     "text": [
      "matching 1's 3619 4136\n",
      "matching 0's 6423 6487\n",
      "matching 10042 total 10623 % 0.9453073519721359\n"
     ]
    }
   ],
   "source": [
    "#x11preds=pd.read_csv(root+\"/test/x11.dtcnt.preds\")\n",
    "x11preds[['customer_ID', 'target', 'Label']]\n",
    "\n",
    "print(\"matching 1's\", x11preds[(x11preds['target'] == round(x11preds['Label'])) & (x11preds['target'] == 1)].count()[0], x11preds[(x11preds['target'] == 1)].count()[0])\n",
    "print(\"matching 0's\", x11preds[(x11preds['target'] == round(x11preds['Label'])) & (x11preds['target'] == 0)].count()[0], x11preds[(x11preds['target'] == 0)].count()[0])\n",
    "print(\"matching\", x11preds[x11preds['target'] == round(x11preds['Label'])].count()[0], \"total\", x11preds.count()[0], \"%\", x11preds[x11preds['target'] == round(x11preds['Label'])].count()[0]/x11preds.count()[0])"
   ]
  },
  {
   "cell_type": "code",
   "execution_count": null,
   "id": "19aaa178-b739-4fb6-a301-f3131c408bce",
   "metadata": {},
   "outputs": [],
   "source": [
    "for column in [col for col in t11.columns if col[len(col)-6:] == '201903']:\n",
    "    t11.drop(columns=[column], inplace=True)\n",
    "t11"
   ]
  },
  {
   "cell_type": "code",
   "execution_count": 101,
   "id": "459f7549-a61d-419d-8af8-7d145faf636f",
   "metadata": {},
   "outputs": [],
   "source": [
    "t11.to_csv(root+\"x11dtcnt.csv\", index=False)"
   ]
  },
  {
   "cell_type": "code",
   "execution_count": null,
   "id": "ff2e1bf2-33f6-4019-a187-7c0b14de572a",
   "metadata": {},
   "outputs": [],
   "source": [
    "df = pd.DataFrame({'value': [1, np.nan, np.nan, 2, 3, 1, 3, np.nan, 3, np.nan, np.nan], 'name': ['A','A', 'B','B','B','B', 'C','C','C', 'D', 'D']})\n",
    "df"
   ]
  },
  {
   "cell_type": "code",
   "execution_count": null,
   "id": "9fe26a7a-81e6-4a22-bbad-1935428c188f",
   "metadata": {},
   "outputs": [],
   "source": [
    "df[\"value\"] = df.groupby(\"name\").transform(lambda x: x.fillna(x.mean()))\n",
    "df"
   ]
  },
  {
   "cell_type": "code",
   "execution_count": null,
   "id": "ca9b386f-900c-4e24-8b56-af53f4d785f3",
   "metadata": {},
   "outputs": [],
   "source": [
    "df.groupby(['name']).cumcount().add(1)\n"
   ]
  },
  {
   "cell_type": "code",
   "execution_count": null,
   "id": "ccc3c156-6810-480a-8eec-98b95ed7a02a",
   "metadata": {},
   "outputs": [],
   "source": [
    "df"
   ]
  },
  {
   "cell_type": "code",
   "execution_count": 13,
   "id": "09c69e09-0360-4856-aea7-cf5ab6599c49",
   "metadata": {},
   "outputs": [
    {
     "data": {
      "text/html": [
       "<div>\n",
       "<style scoped>\n",
       "    .dataframe tbody tr th:only-of-type {\n",
       "        vertical-align: middle;\n",
       "    }\n",
       "\n",
       "    .dataframe tbody tr th {\n",
       "        vertical-align: top;\n",
       "    }\n",
       "\n",
       "    .dataframe thead th {\n",
       "        text-align: right;\n",
       "    }\n",
       "</style>\n",
       "<table border=\"1\" class=\"dataframe\">\n",
       "  <thead>\n",
       "    <tr style=\"text-align: right;\">\n",
       "      <th></th>\n",
       "      <th>S_2_dt</th>\n",
       "    </tr>\n",
       "  </thead>\n",
       "  <tbody>\n",
       "    <tr>\n",
       "      <th>0</th>\n",
       "      <td>2018-04-01 13:33:00</td>\n",
       "    </tr>\n",
       "    <tr>\n",
       "      <th>1</th>\n",
       "      <td>2018-05-01 13:33:00</td>\n",
       "    </tr>\n",
       "    <tr>\n",
       "      <th>2</th>\n",
       "      <td>2018-06-01 13:33:00</td>\n",
       "    </tr>\n",
       "    <tr>\n",
       "      <th>3</th>\n",
       "      <td>2018-07-01 13:33:00</td>\n",
       "    </tr>\n",
       "    <tr>\n",
       "      <th>4</th>\n",
       "      <td>2018-08-01 13:33:00</td>\n",
       "    </tr>\n",
       "    <tr>\n",
       "      <th>5</th>\n",
       "      <td>2018-09-01 13:33:00</td>\n",
       "    </tr>\n",
       "    <tr>\n",
       "      <th>6</th>\n",
       "      <td>2018-10-01 13:33:00</td>\n",
       "    </tr>\n",
       "    <tr>\n",
       "      <th>7</th>\n",
       "      <td>2018-11-01 13:33:00</td>\n",
       "    </tr>\n",
       "    <tr>\n",
       "      <th>8</th>\n",
       "      <td>2018-12-01 13:33:00</td>\n",
       "    </tr>\n",
       "    <tr>\n",
       "      <th>9</th>\n",
       "      <td>2019-01-01 13:33:00</td>\n",
       "    </tr>\n",
       "    <tr>\n",
       "      <th>10</th>\n",
       "      <td>2019-02-01 13:33:00</td>\n",
       "    </tr>\n",
       "    <tr>\n",
       "      <th>11</th>\n",
       "      <td>2019-03-01 13:33:00</td>\n",
       "    </tr>\n",
       "    <tr>\n",
       "      <th>12</th>\n",
       "      <td>2019-04-01 13:33:00</td>\n",
       "    </tr>\n",
       "    <tr>\n",
       "      <th>13</th>\n",
       "      <td>2019-05-01 13:33:00</td>\n",
       "    </tr>\n",
       "  </tbody>\n",
       "</table>\n",
       "</div>"
      ],
      "text/plain": [
       "                S_2_dt\n",
       "0  2018-04-01 13:33:00\n",
       "1  2018-05-01 13:33:00\n",
       "2  2018-06-01 13:33:00\n",
       "3  2018-07-01 13:33:00\n",
       "4  2018-08-01 13:33:00\n",
       "5  2018-09-01 13:33:00\n",
       "6  2018-10-01 13:33:00\n",
       "7  2018-11-01 13:33:00\n",
       "8  2018-12-01 13:33:00\n",
       "9  2019-01-01 13:33:00\n",
       "10 2019-02-01 13:33:00\n",
       "11 2019-03-01 13:33:00\n",
       "12 2019-04-01 13:33:00\n",
       "13 2019-05-01 13:33:00"
      ]
     },
     "execution_count": 13,
     "metadata": {},
     "output_type": "execute_result"
    }
   ],
   "source": [
    "from datetime import datetime\n",
    "\n",
    "mindate = datetime.strptime('Apr 1 2018  1:33PM', '%b %d %Y %I:%M%p')\n",
    "maxdate = mindate + pd.offsets.DateOffset(months=13)\n",
    "dates=pd.DataFrame(pd.date_range(mindate, maxdate, freq='MS').tolist(), columns=['S_2_dt'])\n",
    "dates"
   ]
  },
  {
   "cell_type": "code",
   "execution_count": null,
   "id": "a4815d5d-a1c6-46e9-b200-717c6f2c5f47",
   "metadata": {},
   "outputs": [],
   "source": [
    "#dates['mondiff'] = \n",
    "dates['S_2_dt'].diff(), pd.Period(dates['S_2_dt']).days_in_month #.apply(lambda x: x/np.timedelta64(1, 'D')).fillna(0).astype('int64')+1"
   ]
  },
  {
   "cell_type": "code",
   "execution_count": 19,
   "id": "4b5f9022-9d96-40cc-a711-6718001d07d0",
   "metadata": {},
   "outputs": [
    {
     "data": {
      "text/plain": [
       "0        1\n",
       "1        2\n",
       "2        4\n",
       "3        8\n",
       "4       16\n",
       "5       32\n",
       "6       64\n",
       "7      128\n",
       "8      256\n",
       "9      512\n",
       "10    1024\n",
       "11    2048\n",
       "12    4096\n",
       "13    8192\n",
       "Name: S_2_dt, dtype: int64"
      ]
     },
     "execution_count": 19,
     "metadata": {},
     "output_type": "execute_result"
    }
   ],
   "source": [
    "2**((((dates['S_2_dt'].dt.strftime(\"%Y\").str[-1:].astype(int)-8) * 12 ) + dates['S_2_dt'].dt.strftime(\"%m\").astype(int)) - 4)"
   ]
  },
  {
   "cell_type": "code",
   "execution_count": null,
   "id": "e5220c3e-6f39-441d-9f14-47d9e2d54f88",
   "metadata": {},
   "outputs": [],
   "source": []
  }
 ],
 "metadata": {
  "kernelspec": {
   "display_name": "Python 3 (ipykernel)",
   "language": "python",
   "name": "python3"
  },
  "language_info": {
   "codemirror_mode": {
    "name": "ipython",
    "version": 3
   },
   "file_extension": ".py",
   "mimetype": "text/x-python",
   "name": "python",
   "nbconvert_exporter": "python",
   "pygments_lexer": "ipython3",
   "version": "3.8.13"
  }
 },
 "nbformat": 4,
 "nbformat_minor": 5
}
