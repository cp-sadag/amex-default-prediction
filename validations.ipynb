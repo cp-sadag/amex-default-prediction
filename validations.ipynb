{
 "cells": [
  {
   "cell_type": "code",
   "execution_count": 1,
   "id": "47e4f2dc-23d2-4d52-92b7-0e560547af2f",
   "metadata": {},
   "outputs": [],
   "source": [
    "import os\n",
    "import numpy as np\n",
    "import pandas as pd"
   ]
  },
  {
   "cell_type": "code",
   "execution_count": 2,
   "id": "de2957db-89f7-4007-8ec5-86dcc8e1911a",
   "metadata": {},
   "outputs": [],
   "source": [
    "root=\"/amex/\"\n",
    "headers=pd.read_csv(root+\"headers.csv\")\n",
    "headers = headers.columns\n",
    "labels =pd.read_csv(root+\"train_labels.csv\")"
   ]
  },
  {
   "cell_type": "code",
   "execution_count": 3,
   "id": "f72042d9-ddf6-40bf-a98b-7133ed66cfb8",
   "metadata": {},
   "outputs": [
    {
     "data": {
      "text/plain": [
       "('/amex/test/testfv.dt2.preds', 152)"
      ]
     },
     "execution_count": 3,
     "metadata": {},
     "output_type": "execute_result"
    }
   ],
   "source": [
    "preds = []\n",
    "for r, d, f in os.walk(root+\"test\"):\n",
    "    if r == \"/amex/test\":\n",
    "        for file in f:\n",
    "            if \".dt2.preds\" in file :\n",
    "                preds.append(os.path.join(r, file))\n",
    "preds[len(preds)-1], len(preds)"
   ]
  },
  {
   "cell_type": "code",
   "execution_count": 24,
   "id": "ec3c528e-ec79-4aed-abf3-988e02a7b279",
   "metadata": {},
   "outputs": [],
   "source": [
    "preddf= pd.DataFrame()\n",
    "for i in range(len(preds)):\n",
    "    preddf = pd.concat([preddf, pd.read_csv(preds[i], names=['customer_ID', 'Label', 'Score_0', 'Score_1'], header=None)], ignore_index=True, axis=0)"
   ]
  },
  {
   "cell_type": "code",
   "execution_count": 25,
   "id": "a04d9137-7094-423d-857d-45bda0263eb8",
   "metadata": {},
   "outputs": [
    {
     "data": {
      "text/plain": [
       "(0.0, 1.0)"
      ]
     },
     "execution_count": 25,
     "metadata": {},
     "output_type": "execute_result"
    }
   ],
   "source": [
    "preddf['Label'].min(), preddf['Label'].max()"
   ]
  },
  {
   "cell_type": "code",
   "execution_count": 26,
   "id": "ecda1599-0686-4c77-bc3a-c8fab99639a4",
   "metadata": {},
   "outputs": [
    {
     "name": "stdout",
     "output_type": "stream",
     "text": [
      "matching 1's 0 0\n",
      "matching 0's 663351 924621\n",
      "matching 663351 total 924621 % 0.7174301686853316\n"
     ]
    }
   ],
   "source": [
    "preddf = preddf.groupby(['customer_ID'], as_index=False)['Label'].mean() #.round() #.reset_index()\n",
    "valids = pd.merge(samples, preddf, on='customer_ID', how='inner')\n",
    "valids.rename(columns={'prediction': 'target'}, inplace=True)\n",
    "valids.rename(columns={'Label': 'prediction'}, inplace=True)\n",
    "\n",
    "valids['prediction'] = ( (valids[['prediction']] - valids[['prediction']].min()) / (valids[['prediction']].max() - valids[['prediction']].min()) ) * (1 - 0) + 0\n",
    "\n",
    "print(\"matching 1's\", valids[(valids['target'] == round(valids['prediction'])) & (valids['target'] == 1)].count()[0], valids[(valids['target'] == 1)].count()[0])\n",
    "print(\"matching 0's\", valids[(valids['target'] == round(valids['prediction'])) & (valids['target'] == 0)].count()[0], valids[(valids['target'] == 0)].count()[0])\n",
    "print(\"matching\", valids[valids['target'] == round(valids['prediction'])].count()[0], \"total\", valids.count()[0], \"%\", valids[valids['target'] == round(valids['prediction'])].count()[0]/valids.count()[0])"
   ]
  },
  {
   "cell_type": "code",
   "execution_count": 103,
   "id": "68805321-47b8-4adf-8ac9-54356a8bad6c",
   "metadata": {},
   "outputs": [
    {
     "data": {
      "text/plain": [
       "(0.0, 1.0)"
      ]
     },
     "execution_count": 103,
     "metadata": {},
     "output_type": "execute_result"
    }
   ],
   "source": [
    "valids[valids['prediction']>= 0.000001]\n",
    "valids['prediction'].min(), valids['prediction'].max()"
   ]
  },
  {
   "cell_type": "code",
   "execution_count": 31,
   "id": "99eaa2f6-a814-4c40-828f-739cc620c473",
   "metadata": {},
   "outputs": [
    {
     "name": "stdout",
     "output_type": "stream",
     "text": [
      "matching 736896 total 924621 % 0.7969708669822554\n"
     ]
    }
   ],
   "source": [
    "print(\"matching\", valids[valids['target'] == round(valids['prediction'])].count()[0], \"total\", valids.count()[0], \"%\", valids[valids['target'] == round(valids['prediction'])].count()[0]/valids.count()[0])"
   ]
  },
  {
   "cell_type": "code",
   "execution_count": 56,
   "id": "f2cbf329-eaa0-498d-8ad7-3b6b8ca53fcb",
   "metadata": {},
   "outputs": [
    {
     "data": {
      "text/html": [
       "<div>\n",
       "<style scoped>\n",
       "    .dataframe tbody tr th:only-of-type {\n",
       "        vertical-align: middle;\n",
       "    }\n",
       "\n",
       "    .dataframe tbody tr th {\n",
       "        vertical-align: top;\n",
       "    }\n",
       "\n",
       "    .dataframe thead th {\n",
       "        text-align: right;\n",
       "    }\n",
       "</style>\n",
       "<table border=\"1\" class=\"dataframe\">\n",
       "  <thead>\n",
       "    <tr style=\"text-align: right;\">\n",
       "      <th></th>\n",
       "      <th>customer_ID</th>\n",
       "      <th>target</th>\n",
       "      <th>prediction</th>\n",
       "    </tr>\n",
       "  </thead>\n",
       "  <tbody>\n",
       "    <tr>\n",
       "      <th>753465</th>\n",
       "      <td>d09fd09ab7417840806298103d6f222371d27c596d2d11...</td>\n",
       "      <td>0</td>\n",
       "      <td>0.0</td>\n",
       "    </tr>\n",
       "  </tbody>\n",
       "</table>\n",
       "</div>"
      ],
      "text/plain": [
       "                                              customer_ID  target  prediction\n",
       "753465  d09fd09ab7417840806298103d6f222371d27c596d2d11...       0         0.0"
      ]
     },
     "execution_count": 56,
     "metadata": {},
     "output_type": "execute_result"
    }
   ],
   "source": [
    "valids[(valids['prediction'] <= 0.5)]"
   ]
  },
  {
   "cell_type": "code",
   "execution_count": 166,
   "id": "23a73f3b-013d-4fdc-8e9f-a1bfe73a33ba",
   "metadata": {},
   "outputs": [],
   "source": [
    "#!mv /amex/submission.csv submission11.csv\n",
    "\n",
    "valids[['customer_ID', 'prediction']].to_csv('submission.csv', index=False)"
   ]
  },
  {
   "cell_type": "code",
   "execution_count": 2,
   "id": "1f099f1e-2d6f-4c5c-bac7-85ef078216fc",
   "metadata": {},
   "outputs": [
    {
     "data": {
      "text/plain": [
       "0.8652193709638868"
      ]
     },
     "execution_count": 2,
     "metadata": {},
     "output_type": "execute_result"
    }
   ],
   "source": [
    "800000/924621"
   ]
  },
  {
   "cell_type": "code",
   "execution_count": 7,
   "id": "bef47ea2-078c-402b-a5e4-1bd276bd0179",
   "metadata": {},
   "outputs": [],
   "source": [
    "#samples = pd.read_csv(root + \"sample_submission.csv\")\n",
    "#samples[samples['prediction'] == 0].count()[0]"
   ]
  },
  {
   "cell_type": "code",
   "execution_count": 4,
   "id": "4b8ae0c0-19f1-486c-8594-2b74f4626cce",
   "metadata": {},
   "outputs": [],
   "source": [
    "#preddf= pd.DataFrame()\n",
    "#for i in range(78):\n",
    "#    preddf = pd.concat([preddf, pd.read_csv(preds[i], names=['customer_ID', 'Label'], header=None)], ignore_index=True, axis=0)"
   ]
  },
  {
   "cell_type": "code",
   "execution_count": 5,
   "id": "428ccdf2-a79a-45ca-b183-e13299de92a0",
   "metadata": {},
   "outputs": [],
   "source": [
    "#preddf['Label'] = preddf['Label'].apply(lambda x: abs(x))\n",
    "#preddf['Label'] = (preddf['Label'] / preddf['Label'].max())\n",
    "#preddf['Label'] = preddf['Label'].apply(lambda x: 1 if x>1 else x)\n",
    "#preddf['Label'] = preddf['Label'].apply(lambda x: 0 if x<0 else x)\n",
    "\n",
    "#preddf = preddf.groupby(['customer_ID'], as_index=False)['Label'].mean() #.round() #.reset_index()\n",
    "\n",
    "#pd.DataFrame(preddf)\n",
    "#preddf['Label'] = preddf.Label.astype(\"int\")\n",
    "#preddf.head(1)"
   ]
  },
  {
   "cell_type": "code",
   "execution_count": 10,
   "id": "edc79211-3332-49d9-943a-0a2cba886a59",
   "metadata": {},
   "outputs": [
    {
     "data": {
      "text/plain": [
       "min    0.0\n",
       "max    1.0\n",
       "Name: prediction, dtype: float64"
      ]
     },
     "execution_count": 10,
     "metadata": {},
     "output_type": "execute_result"
    }
   ],
   "source": [
    "valids['prediction'].agg(['min', 'max'])\n",
    "#731000/924621"
   ]
  },
  {
   "cell_type": "code",
   "execution_count": 24,
   "id": "30e8b180-d93a-4f77-be89-d9749eef9619",
   "metadata": {},
   "outputs": [
    {
     "data": {
      "text/html": [
       "<div>\n",
       "<style scoped>\n",
       "    .dataframe tbody tr th:only-of-type {\n",
       "        vertical-align: middle;\n",
       "    }\n",
       "\n",
       "    .dataframe tbody tr th {\n",
       "        vertical-align: top;\n",
       "    }\n",
       "\n",
       "    .dataframe thead th {\n",
       "        text-align: right;\n",
       "    }\n",
       "</style>\n",
       "<table border=\"1\" class=\"dataframe\">\n",
       "  <thead>\n",
       "    <tr style=\"text-align: right;\">\n",
       "      <th></th>\n",
       "      <th>customer_ID</th>\n",
       "      <th>target</th>\n",
       "      <th>customer_ID</th>\n",
       "      <th>prediction</th>\n",
       "      <th>correcpred</th>\n",
       "      <th>weight</th>\n",
       "      <th>random</th>\n",
       "      <th>cum_pos_found</th>\n",
       "      <th>lorentz</th>\n",
       "      <th>gini</th>\n",
       "    </tr>\n",
       "  </thead>\n",
       "  <tbody>\n",
       "    <tr>\n",
       "      <th>20136</th>\n",
       "      <td>059f588c612dbec6aaf6e3e53c33870e3e29ba4a43b35b...</td>\n",
       "      <td>1.000000</td>\n",
       "      <td>059f588c612dbec6aaf6e3e53c33870e3e29ba4a43b35b...</td>\n",
       "      <td>1.000000</td>\n",
       "      <td>1.000000</td>\n",
       "      <td>1</td>\n",
       "      <td>0.000001</td>\n",
       "      <td>1.000000</td>\n",
       "      <td>0.000003</td>\n",
       "      <td>2.122500e-06</td>\n",
       "    </tr>\n",
       "    <tr>\n",
       "      <th>420935</th>\n",
       "      <td>74ae4308d46ed012365fb05d219e6d977dd64ad4fd2c10...</td>\n",
       "      <td>0.994928</td>\n",
       "      <td>74ae4308d46ed012365fb05d219e6d977dd64ad4fd2c10...</td>\n",
       "      <td>0.994928</td>\n",
       "      <td>0.994928</td>\n",
       "      <td>1</td>\n",
       "      <td>0.000002</td>\n",
       "      <td>1.994928</td>\n",
       "      <td>0.000006</td>\n",
       "      <td>4.228749e-06</td>\n",
       "    </tr>\n",
       "    <tr>\n",
       "      <th>12019</th>\n",
       "      <td>035b6509f0e98768d1e91f6570acf20ffccd0649c23b83...</td>\n",
       "      <td>0.990917</td>\n",
       "      <td>035b6509f0e98768d1e91f6570acf20ffccd0649c23b83...</td>\n",
       "      <td>0.990917</td>\n",
       "      <td>0.990917</td>\n",
       "      <td>1</td>\n",
       "      <td>0.000003</td>\n",
       "      <td>2.985845</td>\n",
       "      <td>0.000010</td>\n",
       "      <td>6.322148e-06</td>\n",
       "    </tr>\n",
       "    <tr>\n",
       "      <th>109669</th>\n",
       "      <td>1e74bca35145daf997280ff28b1f125660d33c98580e81...</td>\n",
       "      <td>0.989633</td>\n",
       "      <td>1e74bca35145daf997280ff28b1f125660d33c98580e81...</td>\n",
       "      <td>0.989633</td>\n",
       "      <td>0.989633</td>\n",
       "      <td>1</td>\n",
       "      <td>0.000004</td>\n",
       "      <td>3.975478</td>\n",
       "      <td>0.000013</td>\n",
       "      <td>8.411432e-06</td>\n",
       "    </tr>\n",
       "    <tr>\n",
       "      <th>194376</th>\n",
       "      <td>35d85c566305bedfa007b65d014359c4a39bd6a213009f...</td>\n",
       "      <td>0.987661</td>\n",
       "      <td>35d85c566305bedfa007b65d014359c4a39bd6a213009f...</td>\n",
       "      <td>0.987661</td>\n",
       "      <td>0.987661</td>\n",
       "      <td>1</td>\n",
       "      <td>0.000005</td>\n",
       "      <td>4.963140</td>\n",
       "      <td>0.000016</td>\n",
       "      <td>1.049440e-05</td>\n",
       "    </tr>\n",
       "    <tr>\n",
       "      <th>...</th>\n",
       "      <td>...</td>\n",
       "      <td>...</td>\n",
       "      <td>...</td>\n",
       "      <td>...</td>\n",
       "      <td>...</td>\n",
       "      <td>...</td>\n",
       "      <td>...</td>\n",
       "      <td>...</td>\n",
       "      <td>...</td>\n",
       "      <td>...</td>\n",
       "    </tr>\n",
       "    <tr>\n",
       "      <th>178995</th>\n",
       "      <td>31a5cd081f3aa065914682b1915ef47f688ad4101333cf...</td>\n",
       "      <td>0.023784</td>\n",
       "      <td>31a5cd081f3aa065914682b1915ef47f688ad4101333cf...</td>\n",
       "      <td>0.023784</td>\n",
       "      <td>0.023784</td>\n",
       "      <td>1</td>\n",
       "      <td>0.999975</td>\n",
       "      <td>312109.635931</td>\n",
       "      <td>1.000000</td>\n",
       "      <td>2.468811e-05</td>\n",
       "    </tr>\n",
       "    <tr>\n",
       "      <th>488629</th>\n",
       "      <td>877db3eac69862b06cd555af7398c49d803fa4be62e683...</td>\n",
       "      <td>0.020438</td>\n",
       "      <td>877db3eac69862b06cd555af7398c49d803fa4be62e683...</td>\n",
       "      <td>0.020438</td>\n",
       "      <td>0.020438</td>\n",
       "      <td>1</td>\n",
       "      <td>0.999976</td>\n",
       "      <td>312109.656368</td>\n",
       "      <td>1.000000</td>\n",
       "      <td>2.367209e-05</td>\n",
       "    </tr>\n",
       "    <tr>\n",
       "      <th>180152</th>\n",
       "      <td>31f9ee6211f35ab2b3601c0428709de96f62924414c50d...</td>\n",
       "      <td>0.020392</td>\n",
       "      <td>31f9ee6211f35ab2b3601c0428709de96f62924414c50d...</td>\n",
       "      <td>0.020392</td>\n",
       "      <td>0.020392</td>\n",
       "      <td>1</td>\n",
       "      <td>0.999977</td>\n",
       "      <td>312109.676760</td>\n",
       "      <td>1.000000</td>\n",
       "      <td>2.265592e-05</td>\n",
       "    </tr>\n",
       "    <tr>\n",
       "      <th>410680</th>\n",
       "      <td>71e1ef894b8317979a53d43bda72601ba7b3d19f7354df...</td>\n",
       "      <td>0.017356</td>\n",
       "      <td>71e1ef894b8317979a53d43bda72601ba7b3d19f7354df...</td>\n",
       "      <td>0.017356</td>\n",
       "      <td>0.017356</td>\n",
       "      <td>1</td>\n",
       "      <td>0.999978</td>\n",
       "      <td>312109.694117</td>\n",
       "      <td>1.000000</td>\n",
       "      <td>2.163003e-05</td>\n",
       "    </tr>\n",
       "    <tr>\n",
       "      <th>437658</th>\n",
       "      <td>794f8ce078f8b26928c25c339cc1078c57bb56c336d4f4...</td>\n",
       "      <td>0.000000</td>\n",
       "      <td>794f8ce078f8b26928c25c339cc1078c57bb56c336d4f4...</td>\n",
       "      <td>0.000000</td>\n",
       "      <td>0.000000</td>\n",
       "      <td>20</td>\n",
       "      <td>1.000000</td>\n",
       "      <td>312109.694117</td>\n",
       "      <td>1.000000</td>\n",
       "      <td>-2.176215e-10</td>\n",
       "    </tr>\n",
       "  </tbody>\n",
       "</table>\n",
       "<p>924621 rows × 10 columns</p>\n",
       "</div>"
      ],
      "text/plain": [
       "                                              customer_ID    target  \\\n",
       "20136   059f588c612dbec6aaf6e3e53c33870e3e29ba4a43b35b...  1.000000   \n",
       "420935  74ae4308d46ed012365fb05d219e6d977dd64ad4fd2c10...  0.994928   \n",
       "12019   035b6509f0e98768d1e91f6570acf20ffccd0649c23b83...  0.990917   \n",
       "109669  1e74bca35145daf997280ff28b1f125660d33c98580e81...  0.989633   \n",
       "194376  35d85c566305bedfa007b65d014359c4a39bd6a213009f...  0.987661   \n",
       "...                                                   ...       ...   \n",
       "178995  31a5cd081f3aa065914682b1915ef47f688ad4101333cf...  0.023784   \n",
       "488629  877db3eac69862b06cd555af7398c49d803fa4be62e683...  0.020438   \n",
       "180152  31f9ee6211f35ab2b3601c0428709de96f62924414c50d...  0.020392   \n",
       "410680  71e1ef894b8317979a53d43bda72601ba7b3d19f7354df...  0.017356   \n",
       "437658  794f8ce078f8b26928c25c339cc1078c57bb56c336d4f4...  0.000000   \n",
       "\n",
       "                                              customer_ID  prediction  \\\n",
       "20136   059f588c612dbec6aaf6e3e53c33870e3e29ba4a43b35b...    1.000000   \n",
       "420935  74ae4308d46ed012365fb05d219e6d977dd64ad4fd2c10...    0.994928   \n",
       "12019   035b6509f0e98768d1e91f6570acf20ffccd0649c23b83...    0.990917   \n",
       "109669  1e74bca35145daf997280ff28b1f125660d33c98580e81...    0.989633   \n",
       "194376  35d85c566305bedfa007b65d014359c4a39bd6a213009f...    0.987661   \n",
       "...                                                   ...         ...   \n",
       "178995  31a5cd081f3aa065914682b1915ef47f688ad4101333cf...    0.023784   \n",
       "488629  877db3eac69862b06cd555af7398c49d803fa4be62e683...    0.020438   \n",
       "180152  31f9ee6211f35ab2b3601c0428709de96f62924414c50d...    0.020392   \n",
       "410680  71e1ef894b8317979a53d43bda72601ba7b3d19f7354df...    0.017356   \n",
       "437658  794f8ce078f8b26928c25c339cc1078c57bb56c336d4f4...    0.000000   \n",
       "\n",
       "        correcpred  weight    random  cum_pos_found   lorentz          gini  \n",
       "20136     1.000000       1  0.000001       1.000000  0.000003  2.122500e-06  \n",
       "420935    0.994928       1  0.000002       1.994928  0.000006  4.228749e-06  \n",
       "12019     0.990917       1  0.000003       2.985845  0.000010  6.322148e-06  \n",
       "109669    0.989633       1  0.000004       3.975478  0.000013  8.411432e-06  \n",
       "194376    0.987661       1  0.000005       4.963140  0.000016  1.049440e-05  \n",
       "...            ...     ...       ...            ...       ...           ...  \n",
       "178995    0.023784       1  0.999975  312109.635931  1.000000  2.468811e-05  \n",
       "488629    0.020438       1  0.999976  312109.656368  1.000000  2.367209e-05  \n",
       "180152    0.020392       1  0.999977  312109.676760  1.000000  2.265592e-05  \n",
       "410680    0.017356       1  0.999978  312109.694117  1.000000  2.163003e-05  \n",
       "437658    0.000000      20  1.000000  312109.694117  1.000000 -2.176215e-10  \n",
       "\n",
       "[924621 rows x 10 columns]"
      ]
     },
     "execution_count": 24,
     "metadata": {},
     "output_type": "execute_result"
    }
   ],
   "source": [
    "#valids.loc[(valids['prediction']>0.1) & (valids['prediction']< 0.5), 'prediction'] = valids.loc[(valids['prediction']>0.1) & (valids['prediction']< 0.5), 'prediction'] * 0.9\n",
    "\n",
    "#valids.loc[(valids['prediction']>0.1) & (valids['prediction']< 0.5), 'prediction']\n",
    "\n",
    "df = (pd.concat([valids[['customer_ID', 'prediction']].rename(columns={'prediction':'target'}), valids[['customer_ID', 'prediction']]], axis='columns')).sort_values('prediction', ascending=False)\n",
    "#df = (pd.concat([valids[['customer_ID', 'target']], valids[['customer_ID', 'prediction']]], axis='columns')).sort_values('prediction', ascending=False)\n",
    "\n",
    "#df['correcpred'] = df['prediction'].apply(lambda x: 1 if x> 1 else (0 if x < 0 else x))\n",
    "\n",
    "df['weight'] = df['target'].apply(lambda x: 20 if x==0 else 1)\n",
    "\n",
    "df['random'] = (df['weight'] / df['weight'].sum()).cumsum()\n",
    "\n",
    "total_pos = (df['target'] * df['weight']).sum()\n",
    "\n",
    "df['cum_pos_found'] = (df['target'] * df['weight']).cumsum()\n",
    "\n",
    "df['lorentz'] = df['cum_pos_found'] / total_pos\n",
    "\n",
    "df['gini'] = (df['lorentz'] - df['random']) * df['weight']\n",
    "\n",
    "#(df['correcpred'] * df['weight']).sum(), (df['prediction'] * df['weight']).sum()\n",
    "df['gini'].sum()\n",
    "\n",
    "\n",
    "#1782137.8168000695/303412.06746732915\n",
    "\n",
    "#valids[valids['prediction']>1].max()\n",
    "df#[df['target']>0.9]"
   ]
  },
  {
   "cell_type": "code",
   "execution_count": 16,
   "id": "9ea77eda-9fc7-4d7b-b789-ca409f579836",
   "metadata": {},
   "outputs": [
    {
     "data": {
      "text/plain": [
       "0"
      ]
     },
     "execution_count": 16,
     "metadata": {},
     "output_type": "execute_result"
    }
   ],
   "source": [
    "int(0.04 * df['weight'].sum())\n",
    "(df['target'] * df['weight']).sum()"
   ]
  },
  {
   "cell_type": "code",
   "execution_count": 76,
   "id": "008b0a4d-3aa9-4d57-a722-c0fe146afb98",
   "metadata": {},
   "outputs": [],
   "source": [
    "tst = pd.read_csv(\"/amex/test/testaa\", names=headers)"
   ]
  },
  {
   "cell_type": "code",
   "execution_count": 77,
   "id": "d107572f-5837-4693-a22f-4a51a29f4040",
   "metadata": {},
   "outputs": [],
   "source": [
    "tst={}"
   ]
  },
  {
   "cell_type": "code",
   "execution_count": 29,
   "id": "8fcad4ea-9fc0-470c-837b-3a66938f9156",
   "metadata": {},
   "outputs": [
    {
     "data": {
      "text/html": [
       "<div>\n",
       "<style scoped>\n",
       "    .dataframe tbody tr th:only-of-type {\n",
       "        vertical-align: middle;\n",
       "    }\n",
       "\n",
       "    .dataframe tbody tr th {\n",
       "        vertical-align: top;\n",
       "    }\n",
       "\n",
       "    .dataframe thead th {\n",
       "        text-align: right;\n",
       "    }\n",
       "</style>\n",
       "<table border=\"1\" class=\"dataframe\">\n",
       "  <thead>\n",
       "    <tr style=\"text-align: right;\">\n",
       "      <th></th>\n",
       "      <th>0</th>\n",
       "    </tr>\n",
       "  </thead>\n",
       "  <tbody>\n",
       "    <tr>\n",
       "      <th>0</th>\n",
       "      <td>0.0</td>\n",
       "    </tr>\n",
       "    <tr>\n",
       "      <th>1</th>\n",
       "      <td>1.0</td>\n",
       "    </tr>\n",
       "    <tr>\n",
       "      <th>2</th>\n",
       "      <td>NaN</td>\n",
       "    </tr>\n",
       "  </tbody>\n",
       "</table>\n",
       "</div>"
      ],
      "text/plain": [
       "     0\n",
       "0  0.0\n",
       "1  1.0\n",
       "2  NaN"
      ]
     },
     "execution_count": 29,
     "metadata": {},
     "output_type": "execute_result"
    }
   ],
   "source": [
    "#traindf = pd.read_csv(\"/amex/trainaa\", names=headers)\n",
    "\n",
    "traindf [['B_30', 'B_38', 'D_114', 'D_116', 'D_117', 'D_120', 'D_126', 'D_63', 'D_64', 'D_66', 'D_68']]\n",
    "\n",
    "pd.DataFrame(traindf ['D_120'].unique())\n"
   ]
  },
  {
   "cell_type": "code",
   "execution_count": 83,
   "id": "aefd4c47-0332-43a0-9886-9dd065bd167c",
   "metadata": {},
   "outputs": [
    {
     "data": {
      "text/plain": [
       "0        None\n",
       "1        None\n",
       "2        None\n",
       "3        None\n",
       "4        None\n",
       "         ... \n",
       "99994    None\n",
       "99995    None\n",
       "99996    None\n",
       "99997    None\n",
       "99998    None\n",
       "Name: D_120, Length: 99999, dtype: object"
      ]
     },
     "execution_count": 83,
     "metadata": {},
     "output_type": "execute_result"
    }
   ],
   "source": [
    "import numpy as np\n",
    "\n",
    "traindf['D_120'] = traindf['D_120'].fillna(np.random.random(), inplace=True)\n",
    "\n",
    "traindf['D_120']"
   ]
  }
 ],
 "metadata": {
  "kernelspec": {
   "display_name": "Python 3",
   "language": "python",
   "name": "python3"
  },
  "language_info": {
   "codemirror_mode": {
    "name": "ipython",
    "version": 3
   },
   "file_extension": ".py",
   "mimetype": "text/x-python",
   "name": "python",
   "nbconvert_exporter": "python",
   "pygments_lexer": "ipython3",
   "version": "3.7.10"
  }
 },
 "nbformat": 4,
 "nbformat_minor": 5
}
